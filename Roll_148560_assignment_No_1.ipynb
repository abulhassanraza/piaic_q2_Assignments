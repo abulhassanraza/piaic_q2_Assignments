{
  "nbformat": 4,
  "nbformat_minor": 0,
  "metadata": {
    "colab": {
      "name": "Roll#148560 assignment No.1",
      "provenance": [],
      "collapsed_sections": [],
      "authorship_tag": "ABX9TyOIigIKIrz2ft5Vdxmm6LJZ",
      "include_colab_link": true
    },
    "kernelspec": {
      "name": "python3",
      "display_name": "Python 3"
    }
  },
  "cells": [
    {
      "cell_type": "markdown",
      "metadata": {
        "id": "view-in-github",
        "colab_type": "text"
      },
      "source": [
        "<a href=\"https://colab.research.google.com/github/abulhassanraza/piaic_q2_Assignments/blob/master/Roll_148560_assignment_No_1.ipynb\" target=\"_parent\"><img src=\"https://colab.research.google.com/assets/colab-badge.svg\" alt=\"Open In Colab\"/></a>"
      ]
    },
    {
      "cell_type": "code",
      "metadata": {
        "id": "qoWLkUOqO391"
      },
      "source": [
        "import numpy as np"
      ],
      "execution_count": 34,
      "outputs": []
    },
    {
      "cell_type": "code",
      "metadata": {
        "colab": {
          "base_uri": "https://localhost:8080/"
        },
        "id": "vOLX71CtlX1C",
        "outputId": "96cd11ce-cb15-4dfe-f00a-1a9a30065898"
      },
      "source": [
        "np.zeros(10)"
      ],
      "execution_count": 35,
      "outputs": [
        {
          "output_type": "execute_result",
          "data": {
            "text/plain": [
              "array([0., 0., 0., 0., 0., 0., 0., 0., 0., 0.])"
            ]
          },
          "metadata": {
            "tags": []
          },
          "execution_count": 35
        }
      ]
    },
    {
      "cell_type": "code",
      "metadata": {
        "id": "QT49XmRcldKS"
      },
      "source": [
        "x = np.array(range(10,50))"
      ],
      "execution_count": 36,
      "outputs": []
    },
    {
      "cell_type": "code",
      "metadata": {
        "colab": {
          "base_uri": "https://localhost:8080/"
        },
        "id": "q6fZ3qhIl0Uq",
        "outputId": "d2064964-28a2-4a96-ee22-bf6d3079da1a"
      },
      "source": [
        "np.shape(x)"
      ],
      "execution_count": 37,
      "outputs": [
        {
          "output_type": "execute_result",
          "data": {
            "text/plain": [
              "(40,)"
            ]
          },
          "metadata": {
            "tags": []
          },
          "execution_count": 37
        }
      ]
    },
    {
      "cell_type": "code",
      "metadata": {
        "colab": {
          "base_uri": "https://localhost:8080/"
        },
        "id": "6_AFsJ6RmJWx",
        "outputId": "57e7e6c1-d2d5-468a-bdfa-ce9083e954a2"
      },
      "source": [
        "type(x)"
      ],
      "execution_count": 38,
      "outputs": [
        {
          "output_type": "execute_result",
          "data": {
            "text/plain": [
              "numpy.ndarray"
            ]
          },
          "metadata": {
            "tags": []
          },
          "execution_count": 38
        }
      ]
    },
    {
      "cell_type": "code",
      "metadata": {
        "colab": {
          "base_uri": "https://localhost:8080/"
        },
        "id": "ckjVOydymQOg",
        "outputId": "b5977f74-1eee-49a6-8f73-295f5fb9f8fa"
      },
      "source": [
        "print (np.__version__)\r\n",
        "print(\"__________\")\r\n",
        "print(np.show_config())"
      ],
      "execution_count": 39,
      "outputs": [
        {
          "output_type": "stream",
          "text": [
            "1.19.4\n",
            "__________\n",
            "blas_mkl_info:\n",
            "  NOT AVAILABLE\n",
            "blis_info:\n",
            "  NOT AVAILABLE\n",
            "openblas_info:\n",
            "    libraries = ['openblas', 'openblas']\n",
            "    library_dirs = ['/usr/local/lib']\n",
            "    language = c\n",
            "    define_macros = [('HAVE_CBLAS', None)]\n",
            "blas_opt_info:\n",
            "    libraries = ['openblas', 'openblas']\n",
            "    library_dirs = ['/usr/local/lib']\n",
            "    language = c\n",
            "    define_macros = [('HAVE_CBLAS', None)]\n",
            "lapack_mkl_info:\n",
            "  NOT AVAILABLE\n",
            "openblas_lapack_info:\n",
            "    libraries = ['openblas', 'openblas']\n",
            "    library_dirs = ['/usr/local/lib']\n",
            "    language = c\n",
            "    define_macros = [('HAVE_CBLAS', None)]\n",
            "lapack_opt_info:\n",
            "    libraries = ['openblas', 'openblas']\n",
            "    library_dirs = ['/usr/local/lib']\n",
            "    language = c\n",
            "    define_macros = [('HAVE_CBLAS', None)]\n",
            "None\n"
          ],
          "name": "stdout"
        }
      ]
    },
    {
      "cell_type": "code",
      "metadata": {
        "colab": {
          "base_uri": "https://localhost:8080/"
        },
        "id": "pBjNh6GrnMZ7",
        "outputId": "a54103c6-d530-4d6e-fc30-6565c0f6f8f0"
      },
      "source": [
        "x.ndim"
      ],
      "execution_count": 40,
      "outputs": [
        {
          "output_type": "execute_result",
          "data": {
            "text/plain": [
              "1"
            ]
          },
          "metadata": {
            "tags": []
          },
          "execution_count": 40
        }
      ]
    },
    {
      "cell_type": "code",
      "metadata": {
        "colab": {
          "base_uri": "https://localhost:8080/"
        },
        "id": "OKzzhROsnSMp",
        "outputId": "033d1ca2-96a7-4061-93a6-12afcae70d9e"
      },
      "source": [
        "#boolean array with all true values\r\n",
        "a = np.array(range(1,10))\r\n",
        "a>0"
      ],
      "execution_count": 41,
      "outputs": [
        {
          "output_type": "execute_result",
          "data": {
            "text/plain": [
              "array([ True,  True,  True,  True,  True,  True,  True,  True,  True])"
            ]
          },
          "metadata": {
            "tags": []
          },
          "execution_count": 41
        }
      ]
    },
    {
      "cell_type": "code",
      "metadata": {
        "colab": {
          "base_uri": "https://localhost:8080/"
        },
        "id": "jlftH53knr9B",
        "outputId": "f7ea8d67-43e3-4dbf-c902-fc3943dba98b"
      },
      "source": [
        "#two dimentional array\r\n",
        "h = np.array(range(9)).reshape(3,3)\r\n",
        "h"
      ],
      "execution_count": 42,
      "outputs": [
        {
          "output_type": "execute_result",
          "data": {
            "text/plain": [
              "array([[0, 1, 2],\n",
              "       [3, 4, 5],\n",
              "       [6, 7, 8]])"
            ]
          },
          "metadata": {
            "tags": []
          },
          "execution_count": 42
        }
      ]
    },
    {
      "cell_type": "code",
      "metadata": {
        "colab": {
          "base_uri": "https://localhost:8080/"
        },
        "id": "Gx2cjKuHpCIG",
        "outputId": "ca6491ce-57ca-44d4-9c53-344cc85f9a2e"
      },
      "source": [
        "#three dimentional array\r\n",
        "arr3d = np.array(range(32)).reshape(2,4,4)\r\n",
        "arr3d"
      ],
      "execution_count": 43,
      "outputs": [
        {
          "output_type": "execute_result",
          "data": {
            "text/plain": [
              "array([[[ 0,  1,  2,  3],\n",
              "        [ 4,  5,  6,  7],\n",
              "        [ 8,  9, 10, 11],\n",
              "        [12, 13, 14, 15]],\n",
              "\n",
              "       [[16, 17, 18, 19],\n",
              "        [20, 21, 22, 23],\n",
              "        [24, 25, 26, 27],\n",
              "        [28, 29, 30, 31]]])"
            ]
          },
          "metadata": {
            "tags": []
          },
          "execution_count": 43
        }
      ]
    },
    {
      "cell_type": "code",
      "metadata": {
        "id": "ZWyG_TVJqH8U",
        "colab": {
          "base_uri": "https://localhost:8080/"
        },
        "outputId": "a860a3c5-55a9-4bbd-e2d6-f96e5efa5238"
      },
      "source": [
        "#reversing an element in numpy\r\n",
        "w = np.array(range(9))\r\n",
        "w [::-1]"
      ],
      "execution_count": 72,
      "outputs": [
        {
          "output_type": "execute_result",
          "data": {
            "text/plain": [
              "array([8, 7, 6, 5, 4, 3, 2, 1, 0])"
            ]
          },
          "metadata": {
            "tags": []
          },
          "execution_count": 72
        }
      ]
    },
    {
      "cell_type": "code",
      "metadata": {
        "colab": {
          "base_uri": "https://localhost:8080/"
        },
        "id": "g06hUdqYqM8V",
        "outputId": "e0cdf3fa-4c9f-41fd-f8b8-82ace23bec9a"
      },
      "source": [
        "#Creating a null vector of size 10 but the fifth value which is 1\r\n",
        "y = np.zeros(10)\r\n",
        "y[4] = 1\r\n",
        "y"
      ],
      "execution_count": 45,
      "outputs": [
        {
          "output_type": "execute_result",
          "data": {
            "text/plain": [
              "array([0., 0., 0., 0., 1., 0., 0., 0., 0., 0.])"
            ]
          },
          "metadata": {
            "tags": []
          },
          "execution_count": 45
        }
      ]
    },
    {
      "cell_type": "code",
      "metadata": {
        "colab": {
          "base_uri": "https://localhost:8080/"
        },
        "id": "xB0F4mqbrT15",
        "outputId": "16f03f94-5b14-4c24-cdf3-6df00dfd0cd2"
      },
      "source": [
        "#Create a 3x3 identity matrix\r\n",
        "np.identity(3)"
      ],
      "execution_count": 46,
      "outputs": [
        {
          "output_type": "execute_result",
          "data": {
            "text/plain": [
              "array([[1., 0., 0.],\n",
              "       [0., 1., 0.],\n",
              "       [0., 0., 1.]])"
            ]
          },
          "metadata": {
            "tags": []
          },
          "execution_count": 46
        }
      ]
    },
    {
      "cell_type": "code",
      "metadata": {
        "colab": {
          "base_uri": "https://localhost:8080/"
        },
        "id": "5Ome8iN1tWUN",
        "outputId": "ed21cdee-60ff-4e06-fe2f-a86965b0c72f"
      },
      "source": [
        "#Convert the data type of the given array from int to float\r\n",
        "arr = np.array([1, 2, 3, 4, 5])\r\n",
        "arr.astype('float32')"
      ],
      "execution_count": 47,
      "outputs": [
        {
          "output_type": "execute_result",
          "data": {
            "text/plain": [
              "array([1., 2., 3., 4., 5.], dtype=float32)"
            ]
          },
          "metadata": {
            "tags": []
          },
          "execution_count": 47
        }
      ]
    },
    {
      "cell_type": "code",
      "metadata": {
        "colab": {
          "base_uri": "https://localhost:8080/"
        },
        "id": "YI5JHlTXt97B",
        "outputId": "5b87098c-0eee-446c-8b9e-62dd7d174e81"
      },
      "source": [
        "#Multiply arr1 with arr2\r\n",
        "arr1 = np.array([[1., 2., 3.],\r\n",
        "\r\n",
        "            [4., 5., 6.]])  \r\n",
        "\r\n",
        "arr2 = np.array([[0., 4., 1.],\r\n",
        "\r\n",
        "           [7., 2., 12.]])\r\n",
        "\r\n",
        "arr1 * arr2"
      ],
      "execution_count": 48,
      "outputs": [
        {
          "output_type": "execute_result",
          "data": {
            "text/plain": [
              "array([[ 0.,  8.,  3.],\n",
              "       [28., 10., 72.]])"
            ]
          },
          "metadata": {
            "tags": []
          },
          "execution_count": 48
        }
      ]
    },
    {
      "cell_type": "code",
      "metadata": {
        "colab": {
          "base_uri": "https://localhost:8080/"
        },
        "id": "pJtpeTSKuPMk",
        "outputId": "d1d27b6a-85d1-438f-813c-2efdf2c7250a"
      },
      "source": [
        "# make an array by comoarison\r\n",
        "\r\n",
        "arr1 = np.array([[1., 2., 3.],\r\n",
        "\r\n",
        "            [4., 5., 6.]]) \r\n",
        "\r\n",
        "arr2 = np.array([[0., 4., 1.],\r\n",
        "\r\n",
        "            [7., 2., 12.]])\r\n",
        "\r\n",
        "arr1 == arr2"
      ],
      "execution_count": 49,
      "outputs": [
        {
          "output_type": "execute_result",
          "data": {
            "text/plain": [
              "array([[False, False, False],\n",
              "       [False, False, False]])"
            ]
          },
          "metadata": {
            "tags": []
          },
          "execution_count": 49
        }
      ]
    },
    {
      "cell_type": "code",
      "metadata": {
        "colab": {
          "base_uri": "https://localhost:8080/"
        },
        "id": "RJob8YtP2DeO",
        "outputId": "1796940a-e7fb-457e-d3f0-d75cfd2aa7d5"
      },
      "source": [
        "#Extract all odd numbers from arr with values(0-9)\r\n",
        "\r\n",
        "t = np.array(range(1,10))\r\n",
        "t [0:10:2]"
      ],
      "execution_count": 50,
      "outputs": [
        {
          "output_type": "execute_result",
          "data": {
            "text/plain": [
              "array([1, 3, 5, 7, 9])"
            ]
          },
          "metadata": {
            "tags": []
          },
          "execution_count": 50
        }
      ]
    },
    {
      "cell_type": "code",
      "metadata": {
        "colab": {
          "base_uri": "https://localhost:8080/"
        },
        "id": "_dmrc-182t_j",
        "outputId": "2ba607a9-4f83-46f7-9457-7d86677210e9"
      },
      "source": [
        "#Replace all odd numbers to -1 from previous array\r\n",
        "\r\n",
        "t = np.array(range(1,10))\r\n",
        "t [0:10:2] = -1\r\n",
        "t"
      ],
      "execution_count": 51,
      "outputs": [
        {
          "output_type": "execute_result",
          "data": {
            "text/plain": [
              "array([-1,  2, -1,  4, -1,  6, -1,  8, -1])"
            ]
          },
          "metadata": {
            "tags": []
          },
          "execution_count": 51
        }
      ]
    },
    {
      "cell_type": "code",
      "metadata": {
        "colab": {
          "base_uri": "https://localhost:8080/"
        },
        "id": "GplZbFfW3OSh",
        "outputId": "14e98007-59ac-46d7-a4fe-cbbdb14dbc67"
      },
      "source": [
        "#Replace the values of indexes 5,6,7 and 8 to 12\r\n",
        "\r\n",
        "arr = np.arange(10)\r\n",
        "\r\n",
        "arr [5:9] = 12\r\n",
        "arr"
      ],
      "execution_count": 52,
      "outputs": [
        {
          "output_type": "execute_result",
          "data": {
            "text/plain": [
              "array([ 0,  1,  2,  3,  4, 12, 12, 12, 12,  9])"
            ]
          },
          "metadata": {
            "tags": []
          },
          "execution_count": 52
        }
      ]
    },
    {
      "cell_type": "code",
      "metadata": {
        "colab": {
          "base_uri": "https://localhost:8080/"
        },
        "id": "xF_5WIwJ3rFR",
        "outputId": "96dfdab7-1609-424a-e525-9fc420793546"
      },
      "source": [
        "#Create a 2d array with 1 on the border and 0 inside\r\n",
        "\r\n",
        "bord1 = np.ones((4,4))\r\n",
        "bord1 [1:-1,1:-1] =0\r\n",
        "bord1"
      ],
      "execution_count": 53,
      "outputs": [
        {
          "output_type": "execute_result",
          "data": {
            "text/plain": [
              "array([[1., 1., 1., 1.],\n",
              "       [1., 0., 0., 1.],\n",
              "       [1., 0., 0., 1.],\n",
              "       [1., 1., 1., 1.]])"
            ]
          },
          "metadata": {
            "tags": []
          },
          "execution_count": 53
        }
      ]
    },
    {
      "cell_type": "code",
      "metadata": {
        "colab": {
          "base_uri": "https://localhost:8080/"
        },
        "id": "UbRGt2iZ4Rlw",
        "outputId": "f3a69263-835d-4193-f615-42e0ca53d078"
      },
      "source": [
        "#Replace the value 5 to 12\r\n",
        "arr2d = np.array([[1, 2, 3],\r\n",
        "\r\n",
        "            [4, 5, 6], \r\n",
        "\r\n",
        "            [7, 8, 9]])\r\n",
        "\r\n",
        "arr2d [1][1] = 12\r\n",
        "arr2d"
      ],
      "execution_count": 54,
      "outputs": [
        {
          "output_type": "execute_result",
          "data": {
            "text/plain": [
              "array([[ 1,  2,  3],\n",
              "       [ 4, 12,  6],\n",
              "       [ 7,  8,  9]])"
            ]
          },
          "metadata": {
            "tags": []
          },
          "execution_count": 54
        }
      ]
    },
    {
      "cell_type": "code",
      "metadata": {
        "colab": {
          "base_uri": "https://localhost:8080/"
        },
        "id": "sOb_LB7l4tsn",
        "outputId": "10c3a790-a8b5-4109-e716-c386a12a228e"
      },
      "source": [
        "#Convert all the values of 1st array to 64\r\n",
        "\r\n",
        "arr3d = np.array([[[1, 2, 3], [4, 5, 6]], [[7, 8, 9], [10, 11, 12]]])\r\n",
        "\r\n",
        "arr3d [0] = 64\r\n",
        "\r\n",
        "arr3d"
      ],
      "execution_count": 55,
      "outputs": [
        {
          "output_type": "execute_result",
          "data": {
            "text/plain": [
              "array([[[64, 64, 64],\n",
              "        [64, 64, 64]],\n",
              "\n",
              "       [[ 7,  8,  9],\n",
              "        [10, 11, 12]]])"
            ]
          },
          "metadata": {
            "tags": []
          },
          "execution_count": 55
        }
      ]
    },
    {
      "cell_type": "code",
      "metadata": {
        "id": "RA0Q2WQ-5Voa"
      },
      "source": [
        "#Make a 2-Dimensional array with values 0-9 and slice out the first 1st 1-D array from it"
      ],
      "execution_count": 56,
      "outputs": []
    },
    {
      "cell_type": "code",
      "metadata": {
        "id": "adP989GgiIVL"
      },
      "source": [
        "r = np.array(range(0,9)).reshape(3,3)"
      ],
      "execution_count": 57,
      "outputs": []
    },
    {
      "cell_type": "code",
      "metadata": {
        "colab": {
          "base_uri": "https://localhost:8080/"
        },
        "id": "YLRj7jxqiWJI",
        "outputId": "dfd0c64f-6adc-4e62-9983-58e90bacab44"
      },
      "source": [
        "r [0]"
      ],
      "execution_count": 58,
      "outputs": [
        {
          "output_type": "execute_result",
          "data": {
            "text/plain": [
              "array([0, 1, 2])"
            ]
          },
          "metadata": {
            "tags": []
          },
          "execution_count": 58
        }
      ]
    },
    {
      "cell_type": "code",
      "metadata": {
        "colab": {
          "base_uri": "https://localhost:8080/"
        },
        "id": "jAJuRJbviTHT",
        "outputId": "40ca517c-e9e1-4ff5-a80f-85a755ac94f3"
      },
      "source": [
        "#Make a 2-Dimensional array with values 0-9 and slice out the 2nd value from 2nd 1-D array from it\r\n",
        "\r\n",
        "f = np.array(range(0,9)).reshape(3,3)\r\n",
        "f"
      ],
      "execution_count": 59,
      "outputs": [
        {
          "output_type": "execute_result",
          "data": {
            "text/plain": [
              "array([[0, 1, 2],\n",
              "       [3, 4, 5],\n",
              "       [6, 7, 8]])"
            ]
          },
          "metadata": {
            "tags": []
          },
          "execution_count": 59
        }
      ]
    },
    {
      "cell_type": "code",
      "metadata": {
        "colab": {
          "base_uri": "https://localhost:8080/"
        },
        "id": "RxkfspWvi-CY",
        "outputId": "c57f8a1a-5955-493b-a708-f596d55fa542"
      },
      "source": [
        "#Make a 2-Dimensional array with values 0-9 and slice out the third column but only the first two rows\r\n",
        "\r\n",
        "a = np.array(range(0,9)).reshape(3,3)\r\n",
        "a"
      ],
      "execution_count": 60,
      "outputs": [
        {
          "output_type": "execute_result",
          "data": {
            "text/plain": [
              "array([[0, 1, 2],\n",
              "       [3, 4, 5],\n",
              "       [6, 7, 8]])"
            ]
          },
          "metadata": {
            "tags": []
          },
          "execution_count": 60
        }
      ]
    },
    {
      "cell_type": "code",
      "metadata": {
        "colab": {
          "base_uri": "https://localhost:8080/"
        },
        "id": "uVrq-xrxjloO",
        "outputId": "b0a98baf-9974-417c-9465-0234d1deafc3"
      },
      "source": [
        "a [::,2]"
      ],
      "execution_count": 61,
      "outputs": [
        {
          "output_type": "execute_result",
          "data": {
            "text/plain": [
              "array([2, 5, 8])"
            ]
          },
          "metadata": {
            "tags": []
          },
          "execution_count": 61
        }
      ]
    },
    {
      "cell_type": "code",
      "metadata": {
        "id": "opupwJ5GkKBF"
      },
      "source": [
        "#Create a 10x10 array with random values and find the minimum and maximum values\r\n",
        "\r\n",
        "z = np.random.randn(10,10)"
      ],
      "execution_count": 62,
      "outputs": []
    },
    {
      "cell_type": "code",
      "metadata": {
        "colab": {
          "base_uri": "https://localhost:8080/"
        },
        "id": "E4Dw5SzTki1c",
        "outputId": "9c660320-8b47-4be2-d374-bd992681c465"
      },
      "source": [
        "np.amax(z)"
      ],
      "execution_count": 63,
      "outputs": [
        {
          "output_type": "execute_result",
          "data": {
            "text/plain": [
              "2.0663729142003215"
            ]
          },
          "metadata": {
            "tags": []
          },
          "execution_count": 63
        }
      ]
    },
    {
      "cell_type": "code",
      "metadata": {
        "colab": {
          "base_uri": "https://localhost:8080/"
        },
        "id": "Lfia5iiFlhVs",
        "outputId": "3ff3c6fd-5719-47c2-c13a-c90af3d84be7"
      },
      "source": [
        "np.amin(z)"
      ],
      "execution_count": 64,
      "outputs": [
        {
          "output_type": "execute_result",
          "data": {
            "text/plain": [
              "-2.696191032027041"
            ]
          },
          "metadata": {
            "tags": []
          },
          "execution_count": 64
        }
      ]
    },
    {
      "cell_type": "code",
      "metadata": {
        "colab": {
          "base_uri": "https://localhost:8080/"
        },
        "id": "ZjTuNTcpl2I5",
        "outputId": "25c09e03-0a73-4a5b-ccf9-975e26f1bd15"
      },
      "source": [
        "#Find the common items between a and b\r\n",
        "\r\n",
        "a = np.array([1,2,3,2,3,4,3,4,5,6])\r\n",
        "b = np.array([7,2,10,2,7,4,9,4,9,8])\r\n",
        "\r\n",
        "np.intersect1d(a,b)"
      ],
      "execution_count": 65,
      "outputs": [
        {
          "output_type": "execute_result",
          "data": {
            "text/plain": [
              "array([2, 4])"
            ]
          },
          "metadata": {
            "tags": []
          },
          "execution_count": 65
        }
      ]
    },
    {
      "cell_type": "code",
      "metadata": {
        "colab": {
          "base_uri": "https://localhost:8080/"
        },
        "id": "Z3xidx-HmLRa",
        "outputId": "4f796295-1dad-4432-efa0-1e66a0c7fe87"
      },
      "source": [
        "#Find the positions where elements of a and b match\r\n",
        "\r\n",
        "a = np.array([1,2,3,2,3,4,3,4,5,6])\r\n",
        "b = np.array([7,2,10,2,7,4,9,4,9,8])\r\n",
        "\r\n",
        "result = np.where(a == b)\r\n",
        "result"
      ],
      "execution_count": 66,
      "outputs": [
        {
          "output_type": "execute_result",
          "data": {
            "text/plain": [
              "(array([1, 3, 5, 7]),)"
            ]
          },
          "metadata": {
            "tags": []
          },
          "execution_count": 66
        }
      ]
    },
    {
      "cell_type": "code",
      "metadata": {
        "id": "CuTM3zCymUXK",
        "colab": {
          "base_uri": "https://localhost:8080/"
        },
        "outputId": "a5b19977-9a01-4777-b218-e0ba46d6b555"
      },
      "source": [
        "#Find all the values from array data where the values from array names are not equal to Will and Joe\r\n",
        "names = np.array(['Bob', 'Joe', 'Will', 'Bob', 'Will', 'Joe', 'Joe']) \r\n",
        "data = np.random.randn(7, 4)\r\n",
        "res = np.where(\"Will\" != \"Joe\")\r\n",
        "res"
      ],
      "execution_count": 77,
      "outputs": [
        {
          "output_type": "execute_result",
          "data": {
            "text/plain": [
              "(array([0]),)"
            ]
          },
          "metadata": {
            "tags": []
          },
          "execution_count": 77
        }
      ]
    },
    {
      "cell_type": "code",
      "metadata": {
        "colab": {
          "base_uri": "https://localhost:8080/"
        },
        "id": "J6Y_7WvHztam",
        "outputId": "439ab8dc-17cc-498a-fda4-4f209724fc0f"
      },
      "source": [
        "#Create a 2D array of shape 5x3 to contain decimal numbers between 1 and 15\r\n",
        "\r\n",
        "arr2d = np.array(range(1,16)).reshape(5,3)\r\n",
        "arr2d.astype('float32')"
      ],
      "execution_count": 87,
      "outputs": [
        {
          "output_type": "execute_result",
          "data": {
            "text/plain": [
              "array([[ 1.,  2.,  3.],\n",
              "       [ 4.,  5.,  6.],\n",
              "       [ 7.,  8.,  9.],\n",
              "       [10., 11., 12.],\n",
              "       [13., 14., 15.]], dtype=float32)"
            ]
          },
          "metadata": {
            "tags": []
          },
          "execution_count": 87
        }
      ]
    },
    {
      "cell_type": "code",
      "metadata": {
        "colab": {
          "base_uri": "https://localhost:8080/"
        },
        "id": "uALcpNM93uO8",
        "outputId": "20a2a2e6-f43a-4c7e-d4e6-9c5db0a75286"
      },
      "source": [
        "#Create an array of shape (2, 2, 4) with decimal numbers between 1 to 16.\r\n",
        "\r\n",
        "myArr = np.array(range(1,17)).reshape(2,2,4)\r\n",
        "myArr.astype('float32')"
      ],
      "execution_count": 91,
      "outputs": [
        {
          "output_type": "execute_result",
          "data": {
            "text/plain": [
              "array([[[ 1.,  2.,  3.,  4.],\n",
              "        [ 5.,  6.,  7.,  8.]],\n",
              "\n",
              "       [[ 9., 10., 11., 12.],\n",
              "        [13., 14., 15., 16.]]], dtype=float32)"
            ]
          },
          "metadata": {
            "tags": []
          },
          "execution_count": 91
        }
      ]
    },
    {
      "cell_type": "code",
      "metadata": {
        "colab": {
          "base_uri": "https://localhost:8080/"
        },
        "id": "AxiOk3Ez4cSP",
        "outputId": "eef57c0f-fee3-4c87-90d2-156663759547"
      },
      "source": [
        "#Swap axes of the array you created in Question 32\r\n",
        "\r\n",
        "myArr = np.array(range(1,17)).reshape(2,2,4)\r\n",
        "myArr.astype('float32')\r\n",
        "np.swapaxes(myArr,2,0)"
      ],
      "execution_count": 96,
      "outputs": [
        {
          "output_type": "execute_result",
          "data": {
            "text/plain": [
              "array([[[ 1,  9],\n",
              "        [ 5, 13]],\n",
              "\n",
              "       [[ 2, 10],\n",
              "        [ 6, 14]],\n",
              "\n",
              "       [[ 3, 11],\n",
              "        [ 7, 15]],\n",
              "\n",
              "       [[ 4, 12],\n",
              "        [ 8, 16]]])"
            ]
          },
          "metadata": {
            "tags": []
          },
          "execution_count": 96
        }
      ]
    },
    {
      "cell_type": "code",
      "metadata": {
        "colab": {
          "base_uri": "https://localhost:8080/"
        },
        "id": "1xgErz-R5ikx",
        "outputId": "3e61413c-10f8-4afd-f9be-bfb8db540411"
      },
      "source": [
        "#Create an array of size 10, and find the square root of every element in the array, if the values less than 0.5, replace them with 0\r\n",
        "\r\n",
        "arr10 = np.array(range(10))\r\n",
        "\r\n",
        "np.square(arr10)"
      ],
      "execution_count": 99,
      "outputs": [
        {
          "output_type": "execute_result",
          "data": {
            "text/plain": [
              "array([ 0,  1,  4,  9, 16, 25, 36, 49, 64, 81])"
            ]
          },
          "metadata": {
            "tags": []
          },
          "execution_count": 99
        }
      ]
    },
    {
      "cell_type": "code",
      "metadata": {
        "colab": {
          "base_uri": "https://localhost:8080/"
        },
        "id": "FolIuNvd6Y93",
        "outputId": "dddef295-6650-434e-e741-1ebfd75e98a9"
      },
      "source": [
        "#Create two random arrays of range 12 and make an array with the maximum values between each element of the two arrays\r\n",
        "\r\n",
        "a = np.random.randn(12)\r\n",
        "b = np.random.randn(12)\r\n",
        "\r\n",
        "np.maximum(a,b)"
      ],
      "execution_count": 101,
      "outputs": [
        {
          "output_type": "execute_result",
          "data": {
            "text/plain": [
              "array([-0.5757614 ,  0.5898735 ,  1.05109643, -0.36841017,  1.14338887,\n",
              "        0.56650471,  1.08760025,  0.73625057,  0.07245641,  1.86385771,\n",
              "        0.14970208,  1.72735163])"
            ]
          },
          "metadata": {
            "tags": []
          },
          "execution_count": 101
        }
      ]
    },
    {
      "cell_type": "code",
      "metadata": {
        "colab": {
          "base_uri": "https://localhost:8080/"
        },
        "id": "J82jQo9T7QUq",
        "outputId": "78b5e582-9486-4560-c6d7-06a89ebe11e2"
      },
      "source": [
        "#Find the unique names and sort them out!\r\n",
        "names = np.array(['Bob', 'Joe', 'Will', 'Bob', 'Will', 'Joe', 'Joe'])\r\n",
        "np.unique(names)"
      ],
      "execution_count": 105,
      "outputs": [
        {
          "output_type": "execute_result",
          "data": {
            "text/plain": [
              "array(['Bob', 'Joe', 'Will'], dtype='<U4')"
            ]
          },
          "metadata": {
            "tags": []
          },
          "execution_count": 105
        }
      ]
    },
    {
      "cell_type": "code",
      "metadata": {
        "id": "ORyNR27J8_AC"
      },
      "source": [
        ""
      ],
      "execution_count": 108,
      "outputs": []
    }
  ]
}