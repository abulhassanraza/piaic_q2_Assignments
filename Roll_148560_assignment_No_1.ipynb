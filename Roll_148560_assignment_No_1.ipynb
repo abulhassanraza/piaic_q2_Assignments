{
  "nbformat": 4,
  "nbformat_minor": 0,
  "metadata": {
    "colab": {
      "name": "Roll#148560 assignment No.1",
      "provenance": [],
      "collapsed_sections": [],
      "authorship_tag": "ABX9TyN8gfrQpf6Fcr+0VPMPGpBp",
      "include_colab_link": true
    },
    "kernelspec": {
      "name": "python3",
      "display_name": "Python 3"
    }
  },
  "cells": [
    {
      "cell_type": "markdown",
      "metadata": {
        "id": "view-in-github",
        "colab_type": "text"
      },
      "source": [
        "<a href=\"https://colab.research.google.com/github/abulhassanraza/piaic_q2_Assignments/blob/master/Roll_148560_assignment_No_1.ipynb\" target=\"_parent\"><img src=\"https://colab.research.google.com/assets/colab-badge.svg\" alt=\"Open In Colab\"/></a>"
      ]
    },
    {
      "cell_type": "code",
      "metadata": {
        "id": "qoWLkUOqO391"
      },
      "source": [
        "import numpy as np"
      ],
      "execution_count": 1,
      "outputs": []
    },
    {
      "cell_type": "code",
      "metadata": {
        "colab": {
          "base_uri": "https://localhost:8080/"
        },
        "id": "vOLX71CtlX1C",
        "outputId": "cc7a7d17-a76b-48f3-800f-4fab2de4f5f0"
      },
      "source": [
        "np.zeros(10)"
      ],
      "execution_count": 2,
      "outputs": [
        {
          "output_type": "execute_result",
          "data": {
            "text/plain": [
              "array([0., 0., 0., 0., 0., 0., 0., 0., 0., 0.])"
            ]
          },
          "metadata": {
            "tags": []
          },
          "execution_count": 2
        }
      ]
    },
    {
      "cell_type": "code",
      "metadata": {
        "id": "QT49XmRcldKS"
      },
      "source": [
        "x = np.array(range(10,50))"
      ],
      "execution_count": 3,
      "outputs": []
    },
    {
      "cell_type": "code",
      "metadata": {
        "colab": {
          "base_uri": "https://localhost:8080/"
        },
        "id": "q6fZ3qhIl0Uq",
        "outputId": "54c14e0e-4e5c-4bff-c8d7-294091d26c67"
      },
      "source": [
        "np.shape(x)"
      ],
      "execution_count": 4,
      "outputs": [
        {
          "output_type": "execute_result",
          "data": {
            "text/plain": [
              "(40,)"
            ]
          },
          "metadata": {
            "tags": []
          },
          "execution_count": 4
        }
      ]
    },
    {
      "cell_type": "code",
      "metadata": {
        "colab": {
          "base_uri": "https://localhost:8080/"
        },
        "id": "6_AFsJ6RmJWx",
        "outputId": "2280e1a1-b9ae-4465-e20e-ac173e1be5dc"
      },
      "source": [
        "type(x)"
      ],
      "execution_count": 5,
      "outputs": [
        {
          "output_type": "execute_result",
          "data": {
            "text/plain": [
              "numpy.ndarray"
            ]
          },
          "metadata": {
            "tags": []
          },
          "execution_count": 5
        }
      ]
    },
    {
      "cell_type": "code",
      "metadata": {
        "colab": {
          "base_uri": "https://localhost:8080/"
        },
        "id": "ckjVOydymQOg",
        "outputId": "7d6877c4-05df-459a-de09-719bee13c8b3"
      },
      "source": [
        "print (np.__version__)\r\n",
        "print(\"__________\")\r\n",
        "print(np.show_config())"
      ],
      "execution_count": 6,
      "outputs": [
        {
          "output_type": "stream",
          "text": [
            "1.18.5\n",
            "__________\n",
            "blas_mkl_info:\n",
            "  NOT AVAILABLE\n",
            "blis_info:\n",
            "  NOT AVAILABLE\n",
            "openblas_info:\n",
            "    libraries = ['openblas', 'openblas']\n",
            "    library_dirs = ['/usr/local/lib']\n",
            "    language = c\n",
            "    define_macros = [('HAVE_CBLAS', None)]\n",
            "blas_opt_info:\n",
            "    libraries = ['openblas', 'openblas']\n",
            "    library_dirs = ['/usr/local/lib']\n",
            "    language = c\n",
            "    define_macros = [('HAVE_CBLAS', None)]\n",
            "lapack_mkl_info:\n",
            "  NOT AVAILABLE\n",
            "openblas_lapack_info:\n",
            "    libraries = ['openblas', 'openblas']\n",
            "    library_dirs = ['/usr/local/lib']\n",
            "    language = c\n",
            "    define_macros = [('HAVE_CBLAS', None)]\n",
            "lapack_opt_info:\n",
            "    libraries = ['openblas', 'openblas']\n",
            "    library_dirs = ['/usr/local/lib']\n",
            "    language = c\n",
            "    define_macros = [('HAVE_CBLAS', None)]\n",
            "None\n"
          ],
          "name": "stdout"
        }
      ]
    },
    {
      "cell_type": "code",
      "metadata": {
        "colab": {
          "base_uri": "https://localhost:8080/"
        },
        "id": "pBjNh6GrnMZ7",
        "outputId": "5bd3b349-ab16-4592-e7ce-69301f074193"
      },
      "source": [
        "x.ndim"
      ],
      "execution_count": 7,
      "outputs": [
        {
          "output_type": "execute_result",
          "data": {
            "text/plain": [
              "1"
            ]
          },
          "metadata": {
            "tags": []
          },
          "execution_count": 7
        }
      ]
    },
    {
      "cell_type": "code",
      "metadata": {
        "colab": {
          "base_uri": "https://localhost:8080/"
        },
        "id": "OKzzhROsnSMp",
        "outputId": "db133b44-f52a-4cb2-cf95-6bfb4e10ac29"
      },
      "source": [
        "#boolean array with all true values\r\n",
        "a = np.array(range(1,10))\r\n",
        "a>0"
      ],
      "execution_count": 8,
      "outputs": [
        {
          "output_type": "execute_result",
          "data": {
            "text/plain": [
              "array([ True,  True,  True,  True,  True,  True,  True,  True,  True])"
            ]
          },
          "metadata": {
            "tags": []
          },
          "execution_count": 8
        }
      ]
    },
    {
      "cell_type": "code",
      "metadata": {
        "colab": {
          "base_uri": "https://localhost:8080/"
        },
        "id": "jlftH53knr9B",
        "outputId": "8674c71f-116d-4860-9fb1-de0d6bfe5b48"
      },
      "source": [
        "#two dimentional array\r\n",
        "h = np.array(range(9)).reshape(3,3)\r\n",
        "h"
      ],
      "execution_count": 9,
      "outputs": [
        {
          "output_type": "execute_result",
          "data": {
            "text/plain": [
              "array([[0, 1, 2],\n",
              "       [3, 4, 5],\n",
              "       [6, 7, 8]])"
            ]
          },
          "metadata": {
            "tags": []
          },
          "execution_count": 9
        }
      ]
    },
    {
      "cell_type": "code",
      "metadata": {
        "colab": {
          "base_uri": "https://localhost:8080/"
        },
        "id": "Gx2cjKuHpCIG",
        "outputId": "4d504b73-3528-45a7-d780-ea31a576bda2"
      },
      "source": [
        "#three dimentional array\r\n",
        "arr3d = np.array(range(32)).reshape(2,4,4)\r\n",
        "arr3d"
      ],
      "execution_count": 10,
      "outputs": [
        {
          "output_type": "execute_result",
          "data": {
            "text/plain": [
              "array([[[ 0,  1,  2,  3],\n",
              "        [ 4,  5,  6,  7],\n",
              "        [ 8,  9, 10, 11],\n",
              "        [12, 13, 14, 15]],\n",
              "\n",
              "       [[16, 17, 18, 19],\n",
              "        [20, 21, 22, 23],\n",
              "        [24, 25, 26, 27],\n",
              "        [28, 29, 30, 31]]])"
            ]
          },
          "metadata": {
            "tags": []
          },
          "execution_count": 10
        }
      ]
    },
    {
      "cell_type": "code",
      "metadata": {
        "id": "ZWyG_TVJqH8U"
      },
      "source": [
        "#reversing an element in numpy"
      ],
      "execution_count": 11,
      "outputs": []
    },
    {
      "cell_type": "code",
      "metadata": {
        "colab": {
          "base_uri": "https://localhost:8080/"
        },
        "id": "g06hUdqYqM8V",
        "outputId": "38bc5765-8108-47ff-ddee-d02046a1ad89"
      },
      "source": [
        "#Creating a null vector of size 10 but the fifth value which is 1\r\n",
        "y = np.zeros(10)\r\n",
        "y[4] = 1\r\n",
        "y"
      ],
      "execution_count": 12,
      "outputs": [
        {
          "output_type": "execute_result",
          "data": {
            "text/plain": [
              "array([0., 0., 0., 0., 1., 0., 0., 0., 0., 0.])"
            ]
          },
          "metadata": {
            "tags": []
          },
          "execution_count": 12
        }
      ]
    },
    {
      "cell_type": "code",
      "metadata": {
        "colab": {
          "base_uri": "https://localhost:8080/"
        },
        "id": "xB0F4mqbrT15",
        "outputId": "1a8a4874-cc12-4b2b-b55f-bfa899f8f88f"
      },
      "source": [
        "#Create a 3x3 identity matrix\r\n",
        "np.identity(3)"
      ],
      "execution_count": 13,
      "outputs": [
        {
          "output_type": "execute_result",
          "data": {
            "text/plain": [
              "array([[1., 0., 0.],\n",
              "       [0., 1., 0.],\n",
              "       [0., 0., 1.]])"
            ]
          },
          "metadata": {
            "tags": []
          },
          "execution_count": 13
        }
      ]
    },
    {
      "cell_type": "code",
      "metadata": {
        "colab": {
          "base_uri": "https://localhost:8080/"
        },
        "id": "5Ome8iN1tWUN",
        "outputId": "ae12eb42-f8ff-497d-98b3-161ac0c277b9"
      },
      "source": [
        "#Convert the data type of the given array from int to float\r\n",
        "arr = np.array([1, 2, 3, 4, 5])\r\n",
        "arr.astype('float32')"
      ],
      "execution_count": 14,
      "outputs": [
        {
          "output_type": "execute_result",
          "data": {
            "text/plain": [
              "array([1., 2., 3., 4., 5.], dtype=float32)"
            ]
          },
          "metadata": {
            "tags": []
          },
          "execution_count": 14
        }
      ]
    },
    {
      "cell_type": "code",
      "metadata": {
        "colab": {
          "base_uri": "https://localhost:8080/"
        },
        "id": "YI5JHlTXt97B",
        "outputId": "2761da75-21eb-4b86-fe7b-5621b53bd02d"
      },
      "source": [
        "#Multiply arr1 with arr2\r\n",
        "arr1 = np.array([[1., 2., 3.],\r\n",
        "\r\n",
        "            [4., 5., 6.]])  \r\n",
        "\r\n",
        "arr2 = np.array([[0., 4., 1.],\r\n",
        "\r\n",
        "           [7., 2., 12.]])\r\n",
        "\r\n",
        "arr1 * arr2"
      ],
      "execution_count": 15,
      "outputs": [
        {
          "output_type": "execute_result",
          "data": {
            "text/plain": [
              "array([[ 0.,  8.,  3.],\n",
              "       [28., 10., 72.]])"
            ]
          },
          "metadata": {
            "tags": []
          },
          "execution_count": 15
        }
      ]
    },
    {
      "cell_type": "code",
      "metadata": {
        "colab": {
          "base_uri": "https://localhost:8080/"
        },
        "id": "pJtpeTSKuPMk",
        "outputId": "61803505-6b34-440a-c62e-5683ceb79a10"
      },
      "source": [
        "# make an array by comoarison\r\n",
        "\r\n",
        "arr1 = np.array([[1., 2., 3.],\r\n",
        "\r\n",
        "            [4., 5., 6.]]) \r\n",
        "\r\n",
        "arr2 = np.array([[0., 4., 1.],\r\n",
        "\r\n",
        "            [7., 2., 12.]])\r\n",
        "\r\n",
        "arr1 == arr2"
      ],
      "execution_count": 16,
      "outputs": [
        {
          "output_type": "execute_result",
          "data": {
            "text/plain": [
              "array([[False, False, False],\n",
              "       [False, False, False]])"
            ]
          },
          "metadata": {
            "tags": []
          },
          "execution_count": 16
        }
      ]
    },
    {
      "cell_type": "code",
      "metadata": {
        "colab": {
          "base_uri": "https://localhost:8080/"
        },
        "id": "RJob8YtP2DeO",
        "outputId": "164cd7b6-ea18-4f91-9938-fa5aa02f0654"
      },
      "source": [
        "#Extract all odd numbers from arr with values(0-9)\r\n",
        "\r\n",
        "t = np.array(range(1,10))\r\n",
        "t [0:10:2]"
      ],
      "execution_count": 17,
      "outputs": [
        {
          "output_type": "execute_result",
          "data": {
            "text/plain": [
              "array([1, 3, 5, 7, 9])"
            ]
          },
          "metadata": {
            "tags": []
          },
          "execution_count": 17
        }
      ]
    },
    {
      "cell_type": "code",
      "metadata": {
        "colab": {
          "base_uri": "https://localhost:8080/"
        },
        "id": "_dmrc-182t_j",
        "outputId": "1206f80a-f4e0-4df8-88ec-f7f255b5b402"
      },
      "source": [
        "#Replace all odd numbers to -1 from previous array\r\n",
        "\r\n",
        "t = np.array(range(1,10))\r\n",
        "t [0:10:2] = -1\r\n",
        "t"
      ],
      "execution_count": 18,
      "outputs": [
        {
          "output_type": "execute_result",
          "data": {
            "text/plain": [
              "array([-1,  2, -1,  4, -1,  6, -1,  8, -1])"
            ]
          },
          "metadata": {
            "tags": []
          },
          "execution_count": 18
        }
      ]
    },
    {
      "cell_type": "code",
      "metadata": {
        "colab": {
          "base_uri": "https://localhost:8080/"
        },
        "id": "GplZbFfW3OSh",
        "outputId": "77154377-9979-42c5-bad3-c9cacfadd173"
      },
      "source": [
        "#Replace the values of indexes 5,6,7 and 8 to 12\r\n",
        "\r\n",
        "arr = np.arange(10)\r\n",
        "\r\n",
        "arr [5:9] = 12\r\n",
        "arr"
      ],
      "execution_count": 19,
      "outputs": [
        {
          "output_type": "execute_result",
          "data": {
            "text/plain": [
              "array([ 0,  1,  2,  3,  4, 12, 12, 12, 12,  9])"
            ]
          },
          "metadata": {
            "tags": []
          },
          "execution_count": 19
        }
      ]
    },
    {
      "cell_type": "code",
      "metadata": {
        "colab": {
          "base_uri": "https://localhost:8080/"
        },
        "id": "xF_5WIwJ3rFR",
        "outputId": "544a1e80-6ca8-476b-f63a-989fbad5f435"
      },
      "source": [
        "#Create a 2d array with 1 on the border and 0 inside\r\n",
        "\r\n",
        "bord1 = np.ones((4,4))\r\n",
        "bord1 [1:-1,1:-1] =0\r\n",
        "bord1"
      ],
      "execution_count": 20,
      "outputs": [
        {
          "output_type": "execute_result",
          "data": {
            "text/plain": [
              "array([[1., 1., 1., 1.],\n",
              "       [1., 0., 0., 1.],\n",
              "       [1., 0., 0., 1.],\n",
              "       [1., 1., 1., 1.]])"
            ]
          },
          "metadata": {
            "tags": []
          },
          "execution_count": 20
        }
      ]
    },
    {
      "cell_type": "code",
      "metadata": {
        "colab": {
          "base_uri": "https://localhost:8080/"
        },
        "id": "UbRGt2iZ4Rlw",
        "outputId": "a81efbe0-ac9a-4c27-9bb2-81b20caf5411"
      },
      "source": [
        "#Replace the value 5 to 12\r\n",
        "arr2d = np.array([[1, 2, 3],\r\n",
        "\r\n",
        "            [4, 5, 6], \r\n",
        "\r\n",
        "            [7, 8, 9]])\r\n",
        "\r\n",
        "arr2d [1][1] = 12\r\n",
        "arr2d"
      ],
      "execution_count": 21,
      "outputs": [
        {
          "output_type": "execute_result",
          "data": {
            "text/plain": [
              "array([[ 1,  2,  3],\n",
              "       [ 4, 12,  6],\n",
              "       [ 7,  8,  9]])"
            ]
          },
          "metadata": {
            "tags": []
          },
          "execution_count": 21
        }
      ]
    },
    {
      "cell_type": "code",
      "metadata": {
        "colab": {
          "base_uri": "https://localhost:8080/"
        },
        "id": "sOb_LB7l4tsn",
        "outputId": "71929274-980b-4828-c183-81cbfcc8badb"
      },
      "source": [
        "#Convert all the values of 1st array to 64\r\n",
        "\r\n",
        "arr3d = np.array([[[1, 2, 3], [4, 5, 6]], [[7, 8, 9], [10, 11, 12]]])\r\n",
        "\r\n",
        "arr3d [0] = 64\r\n",
        "\r\n",
        "arr3d"
      ],
      "execution_count": 22,
      "outputs": [
        {
          "output_type": "execute_result",
          "data": {
            "text/plain": [
              "array([[[64, 64, 64],\n",
              "        [64, 64, 64]],\n",
              "\n",
              "       [[ 7,  8,  9],\n",
              "        [10, 11, 12]]])"
            ]
          },
          "metadata": {
            "tags": []
          },
          "execution_count": 22
        }
      ]
    },
    {
      "cell_type": "code",
      "metadata": {
        "id": "RA0Q2WQ-5Voa"
      },
      "source": [
        "#Make a 2-Dimensional array with values 0-9 and slice out the first 1st 1-D array from it"
      ],
      "execution_count": 23,
      "outputs": []
    },
    {
      "cell_type": "code",
      "metadata": {
        "id": "adP989GgiIVL"
      },
      "source": [
        "r = np.array(range(0,9)).reshape(3,3)"
      ],
      "execution_count": 29,
      "outputs": []
    },
    {
      "cell_type": "code",
      "metadata": {
        "colab": {
          "base_uri": "https://localhost:8080/"
        },
        "id": "YLRj7jxqiWJI",
        "outputId": "44b38529-ae30-4b6a-d28b-d19cafeb58f7"
      },
      "source": [
        "r [0]"
      ],
      "execution_count": 30,
      "outputs": [
        {
          "output_type": "execute_result",
          "data": {
            "text/plain": [
              "array([0, 1, 2])"
            ]
          },
          "metadata": {
            "tags": []
          },
          "execution_count": 30
        }
      ]
    },
    {
      "cell_type": "code",
      "metadata": {
        "colab": {
          "base_uri": "https://localhost:8080/"
        },
        "id": "jAJuRJbviTHT",
        "outputId": "e6f4a362-b475-4fdd-fdd4-d895814917bd"
      },
      "source": [
        "#Make a 2-Dimensional array with values 0-9 and slice out the 2nd value from 2nd 1-D array from it\r\n",
        "\r\n",
        "f = np.array(range(0,9)).reshape(3,3)\r\n",
        "f"
      ],
      "execution_count": 39,
      "outputs": [
        {
          "output_type": "execute_result",
          "data": {
            "text/plain": [
              "array([[0, 1, 2],\n",
              "       [3, 4, 5],\n",
              "       [6, 7, 8]])"
            ]
          },
          "metadata": {
            "tags": []
          },
          "execution_count": 39
        }
      ]
    },
    {
      "cell_type": "code",
      "metadata": {
        "colab": {
          "base_uri": "https://localhost:8080/"
        },
        "id": "RxkfspWvi-CY",
        "outputId": "b8d159d0-572b-4905-ed51-ac45f502aee2"
      },
      "source": [
        "#Make a 2-Dimensional array with values 0-9 and slice out the third column but only the first two rows\r\n",
        "\r\n",
        "a = np.array(range(0,9)).reshape(3,3)\r\n",
        "a"
      ],
      "execution_count": 40,
      "outputs": [
        {
          "output_type": "execute_result",
          "data": {
            "text/plain": [
              "array([[0, 1, 2],\n",
              "       [3, 4, 5],\n",
              "       [6, 7, 8]])"
            ]
          },
          "metadata": {
            "tags": []
          },
          "execution_count": 40
        }
      ]
    },
    {
      "cell_type": "code",
      "metadata": {
        "colab": {
          "base_uri": "https://localhost:8080/"
        },
        "id": "uVrq-xrxjloO",
        "outputId": "9f5103e4-745d-4e78-b286-8745997ae755"
      },
      "source": [
        "a [::,2]"
      ],
      "execution_count": 47,
      "outputs": [
        {
          "output_type": "execute_result",
          "data": {
            "text/plain": [
              "array([2])"
            ]
          },
          "metadata": {
            "tags": []
          },
          "execution_count": 47
        }
      ]
    },
    {
      "cell_type": "code",
      "metadata": {
        "id": "opupwJ5GkKBF"
      },
      "source": [
        "#Create a 10x10 array with random values and find the minimum and maximum values\r\n",
        "\r\n",
        "z = np.random.randn(10,10)"
      ],
      "execution_count": 50,
      "outputs": []
    },
    {
      "cell_type": "code",
      "metadata": {
        "colab": {
          "base_uri": "https://localhost:8080/"
        },
        "id": "E4Dw5SzTki1c",
        "outputId": "4cd6fb57-bfcc-4e29-8777-20eb9357cce1"
      },
      "source": [
        "np.amax(z)"
      ],
      "execution_count": 54,
      "outputs": [
        {
          "output_type": "execute_result",
          "data": {
            "text/plain": [
              "2.6788575754196486"
            ]
          },
          "metadata": {
            "tags": []
          },
          "execution_count": 54
        }
      ]
    },
    {
      "cell_type": "code",
      "metadata": {
        "colab": {
          "base_uri": "https://localhost:8080/"
        },
        "id": "Lfia5iiFlhVs",
        "outputId": "c389947b-7e0f-43a8-ea10-7f23c0c9fd35"
      },
      "source": [
        "np.amin(z)"
      ],
      "execution_count": 55,
      "outputs": [
        {
          "output_type": "execute_result",
          "data": {
            "text/plain": [
              "-2.8620003100289595"
            ]
          },
          "metadata": {
            "tags": []
          },
          "execution_count": 55
        }
      ]
    },
    {
      "cell_type": "code",
      "metadata": {
        "colab": {
          "base_uri": "https://localhost:8080/"
        },
        "id": "ZjTuNTcpl2I5",
        "outputId": "8205136f-cd0a-44dd-dca2-70d3aecb1352"
      },
      "source": [
        "#Find the common items between a and b\r\n",
        "\r\n",
        "a = np.array([1,2,3,2,3,4,3,4,5,6])\r\n",
        "b = np.array([7,2,10,2,7,4,9,4,9,8])\r\n",
        "\r\n",
        "np.intersect1d(a,b)"
      ],
      "execution_count": 57,
      "outputs": [
        {
          "output_type": "execute_result",
          "data": {
            "text/plain": [
              "array([2, 4])"
            ]
          },
          "metadata": {
            "tags": []
          },
          "execution_count": 57
        }
      ]
    },
    {
      "cell_type": "code",
      "metadata": {
        "colab": {
          "base_uri": "https://localhost:8080/"
        },
        "id": "Z3xidx-HmLRa",
        "outputId": "6dfda00d-8b8e-45d9-8765-ae5c77d66e18"
      },
      "source": [
        "#Find the positions where elements of a and b match\r\n",
        "\r\n",
        "a = np.array([1,2,3,2,3,4,3,4,5,6])\r\n",
        "b = np.array([7,2,10,2,7,4,9,4,9,8])\r\n",
        "\r\n",
        "result = np.where(a == b)\r\n",
        "result"
      ],
      "execution_count": 61,
      "outputs": [
        {
          "output_type": "execute_result",
          "data": {
            "text/plain": [
              "(array([1, 3, 5, 7]),)"
            ]
          },
          "metadata": {
            "tags": []
          },
          "execution_count": 61
        }
      ]
    },
    {
      "cell_type": "code",
      "metadata": {
        "id": "CuTM3zCymUXK"
      },
      "source": [
        ""
      ],
      "execution_count": null,
      "outputs": []
    }
  ]
}