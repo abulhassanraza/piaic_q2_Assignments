{
  "nbformat": 4,
  "nbformat_minor": 0,
  "metadata": {
    "colab": {
      "name": "Roll#148560 assignment No.1",
      "provenance": [],
      "collapsed_sections": [],
      "authorship_tag": "ABX9TyOIigIKIrz2ft5Vdxmm6LJZ",
      "include_colab_link": true
    },
    "kernelspec": {
      "name": "python3",
      "display_name": "Python 3"
    }
  },
  "cells": [
    {
      "cell_type": "markdown",
      "metadata": {
        "id": "view-in-github",
        "colab_type": "text"
      },
      "source": [
        "<a href=\"https://colab.research.google.com/github/abulhassanraza/piaic_q2_Assignments/blob/master/Roll_148560_assignment_No_1.ipynb\" target=\"_parent\"><img src=\"https://colab.research.google.com/assets/colab-badge.svg\" alt=\"Open In Colab\"/></a>"
      ]
    },
    {
      "cell_type": "code",
      "metadata": {
        "id": "qoWLkUOqO391"
      },
      "source": [
        "import numpy as np"
      ],
      "execution_count": 109,
      "outputs": []
    },
    {
      "cell_type": "code",
      "metadata": {
        "colab": {
          "base_uri": "https://localhost:8080/"
        },
        "id": "vOLX71CtlX1C",
        "outputId": "68e8bbb6-4022-46bc-fb07-01e05f7cc2d8"
      },
      "source": [
        "np.zeros(10)"
      ],
      "execution_count": 110,
      "outputs": [
        {
          "output_type": "execute_result",
          "data": {
            "text/plain": [
              "array([0., 0., 0., 0., 0., 0., 0., 0., 0., 0.])"
            ]
          },
          "metadata": {
            "tags": []
          },
          "execution_count": 110
        }
      ]
    },
    {
      "cell_type": "code",
      "metadata": {
        "id": "QT49XmRcldKS"
      },
      "source": [
        "x = np.array(range(10,50))"
      ],
      "execution_count": 111,
      "outputs": []
    },
    {
      "cell_type": "code",
      "metadata": {
        "colab": {
          "base_uri": "https://localhost:8080/"
        },
        "id": "q6fZ3qhIl0Uq",
        "outputId": "a403cabd-5ebf-4132-8368-8ed174e63f09"
      },
      "source": [
        "np.shape(x)"
      ],
      "execution_count": 112,
      "outputs": [
        {
          "output_type": "execute_result",
          "data": {
            "text/plain": [
              "(40,)"
            ]
          },
          "metadata": {
            "tags": []
          },
          "execution_count": 112
        }
      ]
    },
    {
      "cell_type": "code",
      "metadata": {
        "colab": {
          "base_uri": "https://localhost:8080/"
        },
        "id": "6_AFsJ6RmJWx",
        "outputId": "4311e083-75a8-466f-cc48-5f1b50ec78f6"
      },
      "source": [
        "type(x)"
      ],
      "execution_count": 113,
      "outputs": [
        {
          "output_type": "execute_result",
          "data": {
            "text/plain": [
              "numpy.ndarray"
            ]
          },
          "metadata": {
            "tags": []
          },
          "execution_count": 113
        }
      ]
    },
    {
      "cell_type": "code",
      "metadata": {
        "colab": {
          "base_uri": "https://localhost:8080/"
        },
        "id": "ckjVOydymQOg",
        "outputId": "0cb6aee3-8dbc-4f0b-8219-98101267e5f0"
      },
      "source": [
        "print (np.__version__)\r\n",
        "print(\"__________\")\r\n",
        "print(np.show_config())"
      ],
      "execution_count": 114,
      "outputs": [
        {
          "output_type": "stream",
          "text": [
            "1.19.4\n",
            "__________\n",
            "blas_mkl_info:\n",
            "  NOT AVAILABLE\n",
            "blis_info:\n",
            "  NOT AVAILABLE\n",
            "openblas_info:\n",
            "    libraries = ['openblas', 'openblas']\n",
            "    library_dirs = ['/usr/local/lib']\n",
            "    language = c\n",
            "    define_macros = [('HAVE_CBLAS', None)]\n",
            "blas_opt_info:\n",
            "    libraries = ['openblas', 'openblas']\n",
            "    library_dirs = ['/usr/local/lib']\n",
            "    language = c\n",
            "    define_macros = [('HAVE_CBLAS', None)]\n",
            "lapack_mkl_info:\n",
            "  NOT AVAILABLE\n",
            "openblas_lapack_info:\n",
            "    libraries = ['openblas', 'openblas']\n",
            "    library_dirs = ['/usr/local/lib']\n",
            "    language = c\n",
            "    define_macros = [('HAVE_CBLAS', None)]\n",
            "lapack_opt_info:\n",
            "    libraries = ['openblas', 'openblas']\n",
            "    library_dirs = ['/usr/local/lib']\n",
            "    language = c\n",
            "    define_macros = [('HAVE_CBLAS', None)]\n",
            "None\n"
          ],
          "name": "stdout"
        }
      ]
    },
    {
      "cell_type": "code",
      "metadata": {
        "colab": {
          "base_uri": "https://localhost:8080/"
        },
        "id": "pBjNh6GrnMZ7",
        "outputId": "927d63af-d2ee-4cfd-fbd3-408581de5200"
      },
      "source": [
        "x.ndim"
      ],
      "execution_count": 115,
      "outputs": [
        {
          "output_type": "execute_result",
          "data": {
            "text/plain": [
              "1"
            ]
          },
          "metadata": {
            "tags": []
          },
          "execution_count": 115
        }
      ]
    },
    {
      "cell_type": "code",
      "metadata": {
        "colab": {
          "base_uri": "https://localhost:8080/"
        },
        "id": "OKzzhROsnSMp",
        "outputId": "209814e6-4f64-4805-93ff-a7acb7a80cd1"
      },
      "source": [
        "#boolean array with all true values\r\n",
        "a = np.array(range(1,10))\r\n",
        "a>0"
      ],
      "execution_count": 116,
      "outputs": [
        {
          "output_type": "execute_result",
          "data": {
            "text/plain": [
              "array([ True,  True,  True,  True,  True,  True,  True,  True,  True])"
            ]
          },
          "metadata": {
            "tags": []
          },
          "execution_count": 116
        }
      ]
    },
    {
      "cell_type": "code",
      "metadata": {
        "colab": {
          "base_uri": "https://localhost:8080/"
        },
        "id": "jlftH53knr9B",
        "outputId": "1d311c94-a66c-41e7-fb51-ef8cfc270c10"
      },
      "source": [
        "#two dimentional array\r\n",
        "h = np.array(range(9)).reshape(3,3)\r\n",
        "h"
      ],
      "execution_count": 117,
      "outputs": [
        {
          "output_type": "execute_result",
          "data": {
            "text/plain": [
              "array([[0, 1, 2],\n",
              "       [3, 4, 5],\n",
              "       [6, 7, 8]])"
            ]
          },
          "metadata": {
            "tags": []
          },
          "execution_count": 117
        }
      ]
    },
    {
      "cell_type": "code",
      "metadata": {
        "colab": {
          "base_uri": "https://localhost:8080/"
        },
        "id": "Gx2cjKuHpCIG",
        "outputId": "ac179b7c-e321-4fd6-fb49-56870ce051e0"
      },
      "source": [
        "#three dimentional array\r\n",
        "arr3d = np.array(range(32)).reshape(2,4,4)\r\n",
        "arr3d"
      ],
      "execution_count": 118,
      "outputs": [
        {
          "output_type": "execute_result",
          "data": {
            "text/plain": [
              "array([[[ 0,  1,  2,  3],\n",
              "        [ 4,  5,  6,  7],\n",
              "        [ 8,  9, 10, 11],\n",
              "        [12, 13, 14, 15]],\n",
              "\n",
              "       [[16, 17, 18, 19],\n",
              "        [20, 21, 22, 23],\n",
              "        [24, 25, 26, 27],\n",
              "        [28, 29, 30, 31]]])"
            ]
          },
          "metadata": {
            "tags": []
          },
          "execution_count": 118
        }
      ]
    },
    {
      "cell_type": "code",
      "metadata": {
        "id": "ZWyG_TVJqH8U",
        "colab": {
          "base_uri": "https://localhost:8080/"
        },
        "outputId": "8c6a4897-f81c-4843-d148-dee70dbec24f"
      },
      "source": [
        "#reversing an element in numpy\r\n",
        "w = np.array(range(9))\r\n",
        "w [::-1]"
      ],
      "execution_count": 119,
      "outputs": [
        {
          "output_type": "execute_result",
          "data": {
            "text/plain": [
              "array([8, 7, 6, 5, 4, 3, 2, 1, 0])"
            ]
          },
          "metadata": {
            "tags": []
          },
          "execution_count": 119
        }
      ]
    },
    {
      "cell_type": "code",
      "metadata": {
        "colab": {
          "base_uri": "https://localhost:8080/"
        },
        "id": "g06hUdqYqM8V",
        "outputId": "4b9f9238-31c1-4c7f-bb4c-5e34b78bcd74"
      },
      "source": [
        "#Creating a null vector of size 10 but the fifth value which is 1\r\n",
        "y = np.zeros(10)\r\n",
        "y[4] = 1\r\n",
        "y"
      ],
      "execution_count": 120,
      "outputs": [
        {
          "output_type": "execute_result",
          "data": {
            "text/plain": [
              "array([0., 0., 0., 0., 1., 0., 0., 0., 0., 0.])"
            ]
          },
          "metadata": {
            "tags": []
          },
          "execution_count": 120
        }
      ]
    },
    {
      "cell_type": "code",
      "metadata": {
        "colab": {
          "base_uri": "https://localhost:8080/"
        },
        "id": "xB0F4mqbrT15",
        "outputId": "ead709c0-22d4-4d09-e375-7662abeb5316"
      },
      "source": [
        "#Create a 3x3 identity matrix\r\n",
        "np.identity(3)"
      ],
      "execution_count": 121,
      "outputs": [
        {
          "output_type": "execute_result",
          "data": {
            "text/plain": [
              "array([[1., 0., 0.],\n",
              "       [0., 1., 0.],\n",
              "       [0., 0., 1.]])"
            ]
          },
          "metadata": {
            "tags": []
          },
          "execution_count": 121
        }
      ]
    },
    {
      "cell_type": "code",
      "metadata": {
        "colab": {
          "base_uri": "https://localhost:8080/"
        },
        "id": "5Ome8iN1tWUN",
        "outputId": "fef373da-a880-4aa7-dbbc-0e48c3d4e9bc"
      },
      "source": [
        "#Convert the data type of the given array from int to float\r\n",
        "arr = np.array([1, 2, 3, 4, 5])\r\n",
        "arr.astype('float32')"
      ],
      "execution_count": 122,
      "outputs": [
        {
          "output_type": "execute_result",
          "data": {
            "text/plain": [
              "array([1., 2., 3., 4., 5.], dtype=float32)"
            ]
          },
          "metadata": {
            "tags": []
          },
          "execution_count": 122
        }
      ]
    },
    {
      "cell_type": "code",
      "metadata": {
        "colab": {
          "base_uri": "https://localhost:8080/"
        },
        "id": "YI5JHlTXt97B",
        "outputId": "b0bac1ef-94e8-4254-fbc9-61439fc68e72"
      },
      "source": [
        "#Multiply arr1 with arr2\r\n",
        "arr1 = np.array([[1., 2., 3.],\r\n",
        "\r\n",
        "            [4., 5., 6.]])  \r\n",
        "\r\n",
        "arr2 = np.array([[0., 4., 1.],\r\n",
        "\r\n",
        "           [7., 2., 12.]])\r\n",
        "\r\n",
        "arr1 * arr2"
      ],
      "execution_count": 123,
      "outputs": [
        {
          "output_type": "execute_result",
          "data": {
            "text/plain": [
              "array([[ 0.,  8.,  3.],\n",
              "       [28., 10., 72.]])"
            ]
          },
          "metadata": {
            "tags": []
          },
          "execution_count": 123
        }
      ]
    },
    {
      "cell_type": "code",
      "metadata": {
        "colab": {
          "base_uri": "https://localhost:8080/"
        },
        "id": "pJtpeTSKuPMk",
        "outputId": "c430f1dc-0606-46da-cb85-dd820db77575"
      },
      "source": [
        "# make an array by comoarison\r\n",
        "\r\n",
        "arr1 = np.array([[1., 2., 3.],\r\n",
        "\r\n",
        "            [4., 5., 6.]]) \r\n",
        "\r\n",
        "arr2 = np.array([[0., 4., 1.],\r\n",
        "\r\n",
        "            [7., 2., 12.]])\r\n",
        "\r\n",
        "arr1 == arr2"
      ],
      "execution_count": 124,
      "outputs": [
        {
          "output_type": "execute_result",
          "data": {
            "text/plain": [
              "array([[False, False, False],\n",
              "       [False, False, False]])"
            ]
          },
          "metadata": {
            "tags": []
          },
          "execution_count": 124
        }
      ]
    },
    {
      "cell_type": "code",
      "metadata": {
        "colab": {
          "base_uri": "https://localhost:8080/"
        },
        "id": "RJob8YtP2DeO",
        "outputId": "888f88aa-9fc8-4f20-eedd-9ef7f3623a89"
      },
      "source": [
        "#Extract all odd numbers from arr with values(0-9)\r\n",
        "\r\n",
        "t = np.array(range(1,10))\r\n",
        "t [0:10:2]"
      ],
      "execution_count": 125,
      "outputs": [
        {
          "output_type": "execute_result",
          "data": {
            "text/plain": [
              "array([1, 3, 5, 7, 9])"
            ]
          },
          "metadata": {
            "tags": []
          },
          "execution_count": 125
        }
      ]
    },
    {
      "cell_type": "code",
      "metadata": {
        "colab": {
          "base_uri": "https://localhost:8080/"
        },
        "id": "_dmrc-182t_j",
        "outputId": "633c21fa-f4f7-465a-bd15-2a25e674de93"
      },
      "source": [
        "#Replace all odd numbers to -1 from previous array\r\n",
        "\r\n",
        "t = np.array(range(1,10))\r\n",
        "t [0:10:2] = -1\r\n",
        "t"
      ],
      "execution_count": 126,
      "outputs": [
        {
          "output_type": "execute_result",
          "data": {
            "text/plain": [
              "array([-1,  2, -1,  4, -1,  6, -1,  8, -1])"
            ]
          },
          "metadata": {
            "tags": []
          },
          "execution_count": 126
        }
      ]
    },
    {
      "cell_type": "code",
      "metadata": {
        "colab": {
          "base_uri": "https://localhost:8080/"
        },
        "id": "GplZbFfW3OSh",
        "outputId": "a7ea563e-8efc-437d-aa4d-9654e969e028"
      },
      "source": [
        "#Replace the values of indexes 5,6,7 and 8 to 12\r\n",
        "\r\n",
        "arr = np.arange(10)\r\n",
        "\r\n",
        "arr [5:9] = 12\r\n",
        "arr"
      ],
      "execution_count": 127,
      "outputs": [
        {
          "output_type": "execute_result",
          "data": {
            "text/plain": [
              "array([ 0,  1,  2,  3,  4, 12, 12, 12, 12,  9])"
            ]
          },
          "metadata": {
            "tags": []
          },
          "execution_count": 127
        }
      ]
    },
    {
      "cell_type": "code",
      "metadata": {
        "colab": {
          "base_uri": "https://localhost:8080/"
        },
        "id": "xF_5WIwJ3rFR",
        "outputId": "56ea88ca-b156-4678-f8d7-cbb1acb58bf2"
      },
      "source": [
        "#Create a 2d array with 1 on the border and 0 inside\r\n",
        "\r\n",
        "bord1 = np.ones((4,4))\r\n",
        "bord1 [1:-1,1:-1] =0\r\n",
        "bord1"
      ],
      "execution_count": 128,
      "outputs": [
        {
          "output_type": "execute_result",
          "data": {
            "text/plain": [
              "array([[1., 1., 1., 1.],\n",
              "       [1., 0., 0., 1.],\n",
              "       [1., 0., 0., 1.],\n",
              "       [1., 1., 1., 1.]])"
            ]
          },
          "metadata": {
            "tags": []
          },
          "execution_count": 128
        }
      ]
    },
    {
      "cell_type": "code",
      "metadata": {
        "colab": {
          "base_uri": "https://localhost:8080/"
        },
        "id": "UbRGt2iZ4Rlw",
        "outputId": "54542e8e-abd7-42c6-b902-f172527020c4"
      },
      "source": [
        "#Replace the value 5 to 12\r\n",
        "arr2d = np.array([[1, 2, 3],\r\n",
        "\r\n",
        "            [4, 5, 6], \r\n",
        "\r\n",
        "            [7, 8, 9]])\r\n",
        "\r\n",
        "arr2d [1][1] = 12\r\n",
        "arr2d"
      ],
      "execution_count": 129,
      "outputs": [
        {
          "output_type": "execute_result",
          "data": {
            "text/plain": [
              "array([[ 1,  2,  3],\n",
              "       [ 4, 12,  6],\n",
              "       [ 7,  8,  9]])"
            ]
          },
          "metadata": {
            "tags": []
          },
          "execution_count": 129
        }
      ]
    },
    {
      "cell_type": "code",
      "metadata": {
        "colab": {
          "base_uri": "https://localhost:8080/"
        },
        "id": "sOb_LB7l4tsn",
        "outputId": "21c861f1-bf78-4bd6-b77d-4f08980bde1c"
      },
      "source": [
        "#Convert all the values of 1st array to 64\r\n",
        "\r\n",
        "arr3d = np.array([[[1, 2, 3], [4, 5, 6]], [[7, 8, 9], [10, 11, 12]]])\r\n",
        "\r\n",
        "arr3d [0] = 64\r\n",
        "\r\n",
        "arr3d"
      ],
      "execution_count": 130,
      "outputs": [
        {
          "output_type": "execute_result",
          "data": {
            "text/plain": [
              "array([[[64, 64, 64],\n",
              "        [64, 64, 64]],\n",
              "\n",
              "       [[ 7,  8,  9],\n",
              "        [10, 11, 12]]])"
            ]
          },
          "metadata": {
            "tags": []
          },
          "execution_count": 130
        }
      ]
    },
    {
      "cell_type": "code",
      "metadata": {
        "id": "RA0Q2WQ-5Voa"
      },
      "source": [
        "#Make a 2-Dimensional array with values 0-9 and slice out the first 1st 1-D array from it"
      ],
      "execution_count": 131,
      "outputs": []
    },
    {
      "cell_type": "code",
      "metadata": {
        "id": "adP989GgiIVL"
      },
      "source": [
        "r = np.array(range(0,9)).reshape(3,3)"
      ],
      "execution_count": 132,
      "outputs": []
    },
    {
      "cell_type": "code",
      "metadata": {
        "colab": {
          "base_uri": "https://localhost:8080/"
        },
        "id": "YLRj7jxqiWJI",
        "outputId": "714a93e1-8103-4db1-bf39-091a238658e7"
      },
      "source": [
        "r [0]"
      ],
      "execution_count": 133,
      "outputs": [
        {
          "output_type": "execute_result",
          "data": {
            "text/plain": [
              "array([0, 1, 2])"
            ]
          },
          "metadata": {
            "tags": []
          },
          "execution_count": 133
        }
      ]
    },
    {
      "cell_type": "code",
      "metadata": {
        "colab": {
          "base_uri": "https://localhost:8080/"
        },
        "id": "jAJuRJbviTHT",
        "outputId": "600b705a-a55d-4870-8b57-9616fb7034cf"
      },
      "source": [
        "#Make a 2-Dimensional array with values 0-9 and slice out the 2nd value from 2nd 1-D array from it\r\n",
        "\r\n",
        "f = np.array(range(0,9)).reshape(3,3)\r\n",
        "f"
      ],
      "execution_count": 134,
      "outputs": [
        {
          "output_type": "execute_result",
          "data": {
            "text/plain": [
              "array([[0, 1, 2],\n",
              "       [3, 4, 5],\n",
              "       [6, 7, 8]])"
            ]
          },
          "metadata": {
            "tags": []
          },
          "execution_count": 134
        }
      ]
    },
    {
      "cell_type": "code",
      "metadata": {
        "colab": {
          "base_uri": "https://localhost:8080/"
        },
        "id": "RxkfspWvi-CY",
        "outputId": "8172fb64-8b76-41e2-e42c-4f88622c43d3"
      },
      "source": [
        "#Make a 2-Dimensional array with values 0-9 and slice out the third column but only the first two rows\r\n",
        "\r\n",
        "a = np.array(range(0,9)).reshape(3,3)\r\n",
        "a"
      ],
      "execution_count": 135,
      "outputs": [
        {
          "output_type": "execute_result",
          "data": {
            "text/plain": [
              "array([[0, 1, 2],\n",
              "       [3, 4, 5],\n",
              "       [6, 7, 8]])"
            ]
          },
          "metadata": {
            "tags": []
          },
          "execution_count": 135
        }
      ]
    },
    {
      "cell_type": "code",
      "metadata": {
        "colab": {
          "base_uri": "https://localhost:8080/"
        },
        "id": "uVrq-xrxjloO",
        "outputId": "89837659-de1e-4720-ba05-635410982126"
      },
      "source": [
        "a [::,2]"
      ],
      "execution_count": 136,
      "outputs": [
        {
          "output_type": "execute_result",
          "data": {
            "text/plain": [
              "array([2, 5, 8])"
            ]
          },
          "metadata": {
            "tags": []
          },
          "execution_count": 136
        }
      ]
    },
    {
      "cell_type": "code",
      "metadata": {
        "id": "opupwJ5GkKBF"
      },
      "source": [
        "#Create a 10x10 array with random values and find the minimum and maximum values\r\n",
        "\r\n",
        "z = np.random.randn(10,10)"
      ],
      "execution_count": 137,
      "outputs": []
    },
    {
      "cell_type": "code",
      "metadata": {
        "colab": {
          "base_uri": "https://localhost:8080/"
        },
        "id": "E4Dw5SzTki1c",
        "outputId": "74233426-06dd-4479-f7a3-4f46ec26de6a"
      },
      "source": [
        "np.amax(z)"
      ],
      "execution_count": 138,
      "outputs": [
        {
          "output_type": "execute_result",
          "data": {
            "text/plain": [
              "2.719784117223439"
            ]
          },
          "metadata": {
            "tags": []
          },
          "execution_count": 138
        }
      ]
    },
    {
      "cell_type": "code",
      "metadata": {
        "colab": {
          "base_uri": "https://localhost:8080/"
        },
        "id": "Lfia5iiFlhVs",
        "outputId": "f5b81f2d-144b-491c-c793-e6f58a975852"
      },
      "source": [
        "np.amin(z)"
      ],
      "execution_count": 139,
      "outputs": [
        {
          "output_type": "execute_result",
          "data": {
            "text/plain": [
              "-2.2267226926108723"
            ]
          },
          "metadata": {
            "tags": []
          },
          "execution_count": 139
        }
      ]
    },
    {
      "cell_type": "code",
      "metadata": {
        "colab": {
          "base_uri": "https://localhost:8080/"
        },
        "id": "ZjTuNTcpl2I5",
        "outputId": "1c638e28-224f-4ec5-e935-3ee75516d371"
      },
      "source": [
        "#Find the common items between a and b\r\n",
        "\r\n",
        "a = np.array([1,2,3,2,3,4,3,4,5,6])\r\n",
        "b = np.array([7,2,10,2,7,4,9,4,9,8])\r\n",
        "\r\n",
        "np.intersect1d(a,b)"
      ],
      "execution_count": 140,
      "outputs": [
        {
          "output_type": "execute_result",
          "data": {
            "text/plain": [
              "array([2, 4])"
            ]
          },
          "metadata": {
            "tags": []
          },
          "execution_count": 140
        }
      ]
    },
    {
      "cell_type": "code",
      "metadata": {
        "colab": {
          "base_uri": "https://localhost:8080/"
        },
        "id": "Z3xidx-HmLRa",
        "outputId": "9a7d664d-82d0-4b05-9edb-736d5cad11b1"
      },
      "source": [
        "#Find the positions where elements of a and b match\r\n",
        "\r\n",
        "a = np.array([1,2,3,2,3,4,3,4,5,6])\r\n",
        "b = np.array([7,2,10,2,7,4,9,4,9,8])\r\n",
        "\r\n",
        "result = np.where(a == b)\r\n",
        "result"
      ],
      "execution_count": 141,
      "outputs": [
        {
          "output_type": "execute_result",
          "data": {
            "text/plain": [
              "(array([1, 3, 5, 7]),)"
            ]
          },
          "metadata": {
            "tags": []
          },
          "execution_count": 141
        }
      ]
    },
    {
      "cell_type": "code",
      "metadata": {
        "id": "CuTM3zCymUXK",
        "colab": {
          "base_uri": "https://localhost:8080/"
        },
        "outputId": "b404904a-9809-4a4a-a286-11c1a0f20de2"
      },
      "source": [
        "#Find all the values from array data where the values from array names are not equal to Will and Joe\r\n",
        "names = np.array(['Bob', 'Joe', 'Will', 'Bob', 'Will', 'Joe', 'Joe']) \r\n",
        "data = np.random.randn(7, 4)\r\n",
        "res = np.where(\"Will\" != \"Joe\")\r\n",
        "res"
      ],
      "execution_count": 142,
      "outputs": [
        {
          "output_type": "execute_result",
          "data": {
            "text/plain": [
              "(array([0]),)"
            ]
          },
          "metadata": {
            "tags": []
          },
          "execution_count": 142
        }
      ]
    },
    {
      "cell_type": "code",
      "metadata": {
        "colab": {
          "base_uri": "https://localhost:8080/"
        },
        "id": "J6Y_7WvHztam",
        "outputId": "832f163f-a24c-4484-977d-2e80a9a29d30"
      },
      "source": [
        "#Create a 2D array of shape 5x3 to contain decimal numbers between 1 and 15\r\n",
        "\r\n",
        "arr2d = np.array(range(1,16)).reshape(5,3)\r\n",
        "arr2d.astype('float32')"
      ],
      "execution_count": 143,
      "outputs": [
        {
          "output_type": "execute_result",
          "data": {
            "text/plain": [
              "array([[ 1.,  2.,  3.],\n",
              "       [ 4.,  5.,  6.],\n",
              "       [ 7.,  8.,  9.],\n",
              "       [10., 11., 12.],\n",
              "       [13., 14., 15.]], dtype=float32)"
            ]
          },
          "metadata": {
            "tags": []
          },
          "execution_count": 143
        }
      ]
    },
    {
      "cell_type": "code",
      "metadata": {
        "colab": {
          "base_uri": "https://localhost:8080/"
        },
        "id": "uALcpNM93uO8",
        "outputId": "886b940b-b017-4c59-cd0a-0d6476f70d0c"
      },
      "source": [
        "#Create an array of shape (2, 2, 4) with decimal numbers between 1 to 16.\r\n",
        "\r\n",
        "myArr = np.array(range(1,17)).reshape(2,2,4)\r\n",
        "myArr.astype('float32')"
      ],
      "execution_count": 144,
      "outputs": [
        {
          "output_type": "execute_result",
          "data": {
            "text/plain": [
              "array([[[ 1.,  2.,  3.,  4.],\n",
              "        [ 5.,  6.,  7.,  8.]],\n",
              "\n",
              "       [[ 9., 10., 11., 12.],\n",
              "        [13., 14., 15., 16.]]], dtype=float32)"
            ]
          },
          "metadata": {
            "tags": []
          },
          "execution_count": 144
        }
      ]
    },
    {
      "cell_type": "code",
      "metadata": {
        "colab": {
          "base_uri": "https://localhost:8080/"
        },
        "id": "AxiOk3Ez4cSP",
        "outputId": "2df2ad3d-e429-461c-fb95-3e30f5871d1d"
      },
      "source": [
        "#Swap axes of the array you created in Question 32\r\n",
        "\r\n",
        "myArr = np.array(range(1,17)).reshape(2,2,4)\r\n",
        "myArr.astype('float32')\r\n",
        "np.swapaxes(myArr,2,0)"
      ],
      "execution_count": 145,
      "outputs": [
        {
          "output_type": "execute_result",
          "data": {
            "text/plain": [
              "array([[[ 1,  9],\n",
              "        [ 5, 13]],\n",
              "\n",
              "       [[ 2, 10],\n",
              "        [ 6, 14]],\n",
              "\n",
              "       [[ 3, 11],\n",
              "        [ 7, 15]],\n",
              "\n",
              "       [[ 4, 12],\n",
              "        [ 8, 16]]])"
            ]
          },
          "metadata": {
            "tags": []
          },
          "execution_count": 145
        }
      ]
    },
    {
      "cell_type": "code",
      "metadata": {
        "colab": {
          "base_uri": "https://localhost:8080/"
        },
        "id": "1xgErz-R5ikx",
        "outputId": "c6b56953-8ef0-4cd1-bc22-7ac7170c47ba"
      },
      "source": [
        "#Create an array of size 10, and find the square root of every element in the array, if the values less than 0.5, replace them with 0\r\n",
        "\r\n",
        "arr10 = np.array(range(10))\r\n",
        "\r\n",
        "np.square(arr10)"
      ],
      "execution_count": 146,
      "outputs": [
        {
          "output_type": "execute_result",
          "data": {
            "text/plain": [
              "array([ 0,  1,  4,  9, 16, 25, 36, 49, 64, 81])"
            ]
          },
          "metadata": {
            "tags": []
          },
          "execution_count": 146
        }
      ]
    },
    {
      "cell_type": "code",
      "metadata": {
        "colab": {
          "base_uri": "https://localhost:8080/"
        },
        "id": "FolIuNvd6Y93",
        "outputId": "00e9088d-f913-4385-9705-45a9eb42e68b"
      },
      "source": [
        "#Create two random arrays of range 12 and make an array with the maximum values between each element of the two arrays\r\n",
        "\r\n",
        "a = np.random.randn(12)\r\n",
        "b = np.random.randn(12)\r\n",
        "\r\n",
        "np.maximum(a,b)"
      ],
      "execution_count": 147,
      "outputs": [
        {
          "output_type": "execute_result",
          "data": {
            "text/plain": [
              "array([ 0.78417329,  0.12642043,  1.53946246,  0.64752845, -0.22078792,\n",
              "        1.33669128, -1.12771632,  0.63009247,  0.67087866,  1.17729805,\n",
              "        2.61099981,  0.70409872])"
            ]
          },
          "metadata": {
            "tags": []
          },
          "execution_count": 147
        }
      ]
    },
    {
      "cell_type": "code",
      "metadata": {
        "colab": {
          "base_uri": "https://localhost:8080/"
        },
        "id": "J82jQo9T7QUq",
        "outputId": "1767b08b-a620-42b1-8fb2-a5147a457573"
      },
      "source": [
        "#Find the unique names and sort them out!\r\n",
        "names = np.array(['Bob', 'Joe', 'Will', 'Bob', 'Will', 'Joe', 'Joe'])\r\n",
        "np.unique(names)"
      ],
      "execution_count": 148,
      "outputs": [
        {
          "output_type": "execute_result",
          "data": {
            "text/plain": [
              "array(['Bob', 'Joe', 'Will'], dtype='<U4')"
            ]
          },
          "metadata": {
            "tags": []
          },
          "execution_count": 148
        }
      ]
    },
    {
      "cell_type": "code",
      "metadata": {
        "id": "ORyNR27J8_AC"
      },
      "source": [
        ""
      ],
      "execution_count": 148,
      "outputs": []
    }
  ]
}